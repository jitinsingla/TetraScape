{
 "cells": [
  {
   "cell_type": "markdown",
   "source": [
    "A Notebook to visualize the ribbon structure of proteins from .pdb files"
   ],
   "metadata": {
    "collapsed": false,
    "pycharm": {
     "name": "#%% md\n"
    }
   }
  },
  {
   "cell_type": "code",
   "execution_count": 2,
   "outputs": [
    {
     "data": {
      "application/3dmoljs_load.v0": "<div id=\"3dmolviewer_16562523630422757\"  style=\"position: relative; width: 640px; height: 480px\">\n        <p id=\"3dmolwarning_16562523630422757\" style=\"background-color:#ffcccc;color:black\">You appear to be running in JupyterLab (or JavaScript failed to load for some other reason).  You need to install the 3dmol extension: <br>\n        <tt>jupyter labextension install jupyterlab_3dmol</tt></p>\n        </div>\n<script>\n\nvar loadScriptAsync = function(uri){\n  return new Promise((resolve, reject) => {\n    var tag = document.createElement('script');\n    tag.src = uri;\n    tag.async = true;\n    tag.onload = () => {\n      resolve();\n    };\n  var firstScriptTag = document.getElementsByTagName('script')[0];\n  firstScriptTag.parentNode.insertBefore(tag, firstScriptTag);\n});\n};\n\nif(typeof $3Dmolpromise === 'undefined') {\n$3Dmolpromise = null;\n  $3Dmolpromise = loadScriptAsync('https://3dmol.org/build/3Dmol.js');\n}\n\nvar viewer_16562523630422757 = null;\nvar warn = document.getElementById(\"3dmolwarning_16562523630422757\");\nif(warn) {\n    warn.parentNode.removeChild(warn);\n}\n$3Dmolpromise.then(function() {\nviewer_16562523630422757 = $3Dmol.createViewer($(\"#3dmolviewer_16562523630422757\"),{backgroundColor:\"white\"});\n$3Dmol.download(\"pdb:1dn3\", viewer_16562523630422757, {}, function() {\nviewer_16562523630422757.zoomTo();\n\tviewer_16562523630422757.setStyle({\"cartoon\": {\"color\": \"spectrum\"}});\nviewer_16562523630422757.render();\n})\n});\n</script>",
      "text/html": "<div id=\"3dmolviewer_16562523630422757\"  style=\"position: relative; width: 640px; height: 480px\">\n        <p id=\"3dmolwarning_16562523630422757\" style=\"background-color:#ffcccc;color:black\">You appear to be running in JupyterLab (or JavaScript failed to load for some other reason).  You need to install the 3dmol extension: <br>\n        <tt>jupyter labextension install jupyterlab_3dmol</tt></p>\n        </div>\n<script>\n\nvar loadScriptAsync = function(uri){\n  return new Promise((resolve, reject) => {\n    var tag = document.createElement('script');\n    tag.src = uri;\n    tag.async = true;\n    tag.onload = () => {\n      resolve();\n    };\n  var firstScriptTag = document.getElementsByTagName('script')[0];\n  firstScriptTag.parentNode.insertBefore(tag, firstScriptTag);\n});\n};\n\nif(typeof $3Dmolpromise === 'undefined') {\n$3Dmolpromise = null;\n  $3Dmolpromise = loadScriptAsync('https://3dmol.org/build/3Dmol.js');\n}\n\nvar viewer_16562523630422757 = null;\nvar warn = document.getElementById(\"3dmolwarning_16562523630422757\");\nif(warn) {\n    warn.parentNode.removeChild(warn);\n}\n$3Dmolpromise.then(function() {\nviewer_16562523630422757 = $3Dmol.createViewer($(\"#3dmolviewer_16562523630422757\"),{backgroundColor:\"white\"});\n$3Dmol.download(\"pdb:1dn3\", viewer_16562523630422757, {}, function() {\nviewer_16562523630422757.zoomTo();\n\tviewer_16562523630422757.setStyle({\"cartoon\": {\"color\": \"spectrum\"}});\nviewer_16562523630422757.render();\n})\n});\n</script>"
     },
     "metadata": {},
     "output_type": "display_data"
    },
    {
     "data": {
      "text/plain": "<py3Dmol.view at 0x7feee2029180>"
     },
     "execution_count": 2,
     "metadata": {},
     "output_type": "execute_result"
    }
   ],
   "source": [
    "import py3Dmol\n",
    "view = py3Dmol.view(query='pdb:1dn3')\n",
    "view.setStyle({'cartoon':{'color':'spectrum'}})\n",
    "view"
   ],
   "metadata": {
    "collapsed": false,
    "pycharm": {
     "name": "#%%\n"
    }
   }
  },
  {
   "cell_type": "code",
   "execution_count": 5,
   "outputs": [
    {
     "data": {
      "application/3dmoljs_load.v0": "<div id=\"3dmolviewer_16562524446240225\"  style=\"position: relative; width: 640px; height: 480px\">\n        <p id=\"3dmolwarning_16562524446240225\" style=\"background-color:#ffcccc;color:black\">You appear to be running in JupyterLab (or JavaScript failed to load for some other reason).  You need to install the 3dmol extension: <br>\n        <tt>jupyter labextension install jupyterlab_3dmol</tt></p>\n        </div>\n<script>\n\nvar loadScriptAsync = function(uri){\n  return new Promise((resolve, reject) => {\n    var tag = document.createElement('script');\n    tag.src = uri;\n    tag.async = true;\n    tag.onload = () => {\n      resolve();\n    };\n  var firstScriptTag = document.getElementsByTagName('script')[0];\n  firstScriptTag.parentNode.insertBefore(tag, firstScriptTag);\n});\n};\n\nif(typeof $3Dmolpromise === 'undefined') {\n$3Dmolpromise = null;\n  $3Dmolpromise = loadScriptAsync('https://3dmol.org/build/3Dmol.js');\n}\n\nvar viewer_16562524446240225 = null;\nvar warn = document.getElementById(\"3dmolwarning_16562524446240225\");\nif(warn) {\n    warn.parentNode.removeChild(warn);\n}\n$3Dmolpromise.then(function() {\nviewer_16562524446240225 = $3Dmol.createViewer($(\"#3dmolviewer_16562524446240225\"),{backgroundColor:\"white\"});\n$3Dmol.download(\"pdb:4l7l\", viewer_16562524446240225, {}, function() {\nviewer_16562524446240225.zoomTo();\n\tviewer_16562524446240225.setStyle({\"cartoon\": {\"color\": \"spectrum\"}});\nviewer_16562524446240225.render();\n})\n});\n</script>",
      "text/html": "<div id=\"3dmolviewer_16562524446240225\"  style=\"position: relative; width: 640px; height: 480px\">\n        <p id=\"3dmolwarning_16562524446240225\" style=\"background-color:#ffcccc;color:black\">You appear to be running in JupyterLab (or JavaScript failed to load for some other reason).  You need to install the 3dmol extension: <br>\n        <tt>jupyter labextension install jupyterlab_3dmol</tt></p>\n        </div>\n<script>\n\nvar loadScriptAsync = function(uri){\n  return new Promise((resolve, reject) => {\n    var tag = document.createElement('script');\n    tag.src = uri;\n    tag.async = true;\n    tag.onload = () => {\n      resolve();\n    };\n  var firstScriptTag = document.getElementsByTagName('script')[0];\n  firstScriptTag.parentNode.insertBefore(tag, firstScriptTag);\n});\n};\n\nif(typeof $3Dmolpromise === 'undefined') {\n$3Dmolpromise = null;\n  $3Dmolpromise = loadScriptAsync('https://3dmol.org/build/3Dmol.js');\n}\n\nvar viewer_16562524446240225 = null;\nvar warn = document.getElementById(\"3dmolwarning_16562524446240225\");\nif(warn) {\n    warn.parentNode.removeChild(warn);\n}\n$3Dmolpromise.then(function() {\nviewer_16562524446240225 = $3Dmol.createViewer($(\"#3dmolviewer_16562524446240225\"),{backgroundColor:\"white\"});\n$3Dmol.download(\"pdb:4l7l\", viewer_16562524446240225, {}, function() {\nviewer_16562524446240225.zoomTo();\n\tviewer_16562524446240225.setStyle({\"cartoon\": {\"color\": \"spectrum\"}});\nviewer_16562524446240225.render();\n})\n});\n</script>"
     },
     "metadata": {},
     "output_type": "display_data"
    },
    {
     "data": {
      "text/plain": "<py3Dmol.view at 0x7feed8776290>"
     },
     "execution_count": 5,
     "metadata": {},
     "output_type": "execute_result"
    }
   ],
   "source": [
    "view = py3Dmol.view(query='pdb:4l7l')\n",
    "view.setStyle({'cartoon':{'color':'spectrum'}})\n",
    "view"
   ],
   "metadata": {
    "collapsed": false,
    "pycharm": {
     "name": "#%%\n"
    }
   }
  },
  {
   "cell_type": "code",
   "execution_count": 6,
   "outputs": [
    {
     "data": {
      "application/3dmoljs_load.v0": "<div id=\"3dmolviewer_16562524644945526\"  style=\"position: relative; width: 640px; height: 480px\">\n        <p id=\"3dmolwarning_16562524644945526\" style=\"background-color:#ffcccc;color:black\">You appear to be running in JupyterLab (or JavaScript failed to load for some other reason).  You need to install the 3dmol extension: <br>\n        <tt>jupyter labextension install jupyterlab_3dmol</tt></p>\n        </div>\n<script>\n\nvar loadScriptAsync = function(uri){\n  return new Promise((resolve, reject) => {\n    var tag = document.createElement('script');\n    tag.src = uri;\n    tag.async = true;\n    tag.onload = () => {\n      resolve();\n    };\n  var firstScriptTag = document.getElementsByTagName('script')[0];\n  firstScriptTag.parentNode.insertBefore(tag, firstScriptTag);\n});\n};\n\nif(typeof $3Dmolpromise === 'undefined') {\n$3Dmolpromise = null;\n  $3Dmolpromise = loadScriptAsync('https://3dmol.org/build/3Dmol.js');\n}\n\nvar viewer_16562524644945526 = null;\nvar warn = document.getElementById(\"3dmolwarning_16562524644945526\");\nif(warn) {\n    warn.parentNode.removeChild(warn);\n}\n$3Dmolpromise.then(function() {\nviewer_16562524644945526 = $3Dmol.createViewer($(\"#3dmolviewer_16562524644945526\"),{backgroundColor:\"white\"});\n$3Dmol.download(\"pdb:5nx2\", viewer_16562524644945526, {}, function() {\nviewer_16562524644945526.zoomTo();\n\tviewer_16562524644945526.setStyle({\"cartoon\": {\"color\": \"spectrum\"}});\nviewer_16562524644945526.render();\n})\n});\n</script>",
      "text/html": "<div id=\"3dmolviewer_16562524644945526\"  style=\"position: relative; width: 640px; height: 480px\">\n        <p id=\"3dmolwarning_16562524644945526\" style=\"background-color:#ffcccc;color:black\">You appear to be running in JupyterLab (or JavaScript failed to load for some other reason).  You need to install the 3dmol extension: <br>\n        <tt>jupyter labextension install jupyterlab_3dmol</tt></p>\n        </div>\n<script>\n\nvar loadScriptAsync = function(uri){\n  return new Promise((resolve, reject) => {\n    var tag = document.createElement('script');\n    tag.src = uri;\n    tag.async = true;\n    tag.onload = () => {\n      resolve();\n    };\n  var firstScriptTag = document.getElementsByTagName('script')[0];\n  firstScriptTag.parentNode.insertBefore(tag, firstScriptTag);\n});\n};\n\nif(typeof $3Dmolpromise === 'undefined') {\n$3Dmolpromise = null;\n  $3Dmolpromise = loadScriptAsync('https://3dmol.org/build/3Dmol.js');\n}\n\nvar viewer_16562524644945526 = null;\nvar warn = document.getElementById(\"3dmolwarning_16562524644945526\");\nif(warn) {\n    warn.parentNode.removeChild(warn);\n}\n$3Dmolpromise.then(function() {\nviewer_16562524644945526 = $3Dmol.createViewer($(\"#3dmolviewer_16562524644945526\"),{backgroundColor:\"white\"});\n$3Dmol.download(\"pdb:5nx2\", viewer_16562524644945526, {}, function() {\nviewer_16562524644945526.zoomTo();\n\tviewer_16562524644945526.setStyle({\"cartoon\": {\"color\": \"spectrum\"}});\nviewer_16562524644945526.render();\n})\n});\n</script>"
     },
     "metadata": {},
     "output_type": "display_data"
    },
    {
     "data": {
      "text/plain": "<py3Dmol.view at 0x7feed87752d0>"
     },
     "execution_count": 6,
     "metadata": {},
     "output_type": "execute_result"
    }
   ],
   "source": [
    "view = py3Dmol.view(query='pdb:5nx2')\n",
    "view.setStyle({'cartoon':{'color':'spectrum'}})\n",
    "view"
   ],
   "metadata": {
    "collapsed": false,
    "pycharm": {
     "name": "#%%\n"
    }
   }
  },
  {
   "cell_type": "code",
   "execution_count": 7,
   "outputs": [
    {
     "data": {
      "application/3dmoljs_load.v0": "<div id=\"3dmolviewer_1656252802525389\"  style=\"position: relative; width: 640px; height: 480px\">\n        <p id=\"3dmolwarning_1656252802525389\" style=\"background-color:#ffcccc;color:black\">You appear to be running in JupyterLab (or JavaScript failed to load for some other reason).  You need to install the 3dmol extension: <br>\n        <tt>jupyter labextension install jupyterlab_3dmol</tt></p>\n        </div>\n<script>\n\nvar loadScriptAsync = function(uri){\n  return new Promise((resolve, reject) => {\n    var tag = document.createElement('script');\n    tag.src = uri;\n    tag.async = true;\n    tag.onload = () => {\n      resolve();\n    };\n  var firstScriptTag = document.getElementsByTagName('script')[0];\n  firstScriptTag.parentNode.insertBefore(tag, firstScriptTag);\n});\n};\n\nif(typeof $3Dmolpromise === 'undefined') {\n$3Dmolpromise = null;\n  $3Dmolpromise = loadScriptAsync('https://3dmol.org/build/3Dmol.js');\n}\n\nvar viewer_1656252802525389 = null;\nvar warn = document.getElementById(\"3dmolwarning_1656252802525389\");\nif(warn) {\n    warn.parentNode.removeChild(warn);\n}\n$3Dmolpromise.then(function() {\nviewer_1656252802525389 = $3Dmol.createViewer($(\"#3dmolviewer_1656252802525389\"),{backgroundColor:\"white\"});\n$3Dmol.download(\"pdb:1a3n\", viewer_1656252802525389, {}, function() {\nviewer_1656252802525389.zoomTo();\n\tviewer_1656252802525389.setStyle({\"cartoon\": {\"color\": \"spectrum\"}});\nviewer_1656252802525389.render();\n})\n});\n</script>",
      "text/html": "<div id=\"3dmolviewer_1656252802525389\"  style=\"position: relative; width: 640px; height: 480px\">\n        <p id=\"3dmolwarning_1656252802525389\" style=\"background-color:#ffcccc;color:black\">You appear to be running in JupyterLab (or JavaScript failed to load for some other reason).  You need to install the 3dmol extension: <br>\n        <tt>jupyter labextension install jupyterlab_3dmol</tt></p>\n        </div>\n<script>\n\nvar loadScriptAsync = function(uri){\n  return new Promise((resolve, reject) => {\n    var tag = document.createElement('script');\n    tag.src = uri;\n    tag.async = true;\n    tag.onload = () => {\n      resolve();\n    };\n  var firstScriptTag = document.getElementsByTagName('script')[0];\n  firstScriptTag.parentNode.insertBefore(tag, firstScriptTag);\n});\n};\n\nif(typeof $3Dmolpromise === 'undefined') {\n$3Dmolpromise = null;\n  $3Dmolpromise = loadScriptAsync('https://3dmol.org/build/3Dmol.js');\n}\n\nvar viewer_1656252802525389 = null;\nvar warn = document.getElementById(\"3dmolwarning_1656252802525389\");\nif(warn) {\n    warn.parentNode.removeChild(warn);\n}\n$3Dmolpromise.then(function() {\nviewer_1656252802525389 = $3Dmol.createViewer($(\"#3dmolviewer_1656252802525389\"),{backgroundColor:\"white\"});\n$3Dmol.download(\"pdb:1a3n\", viewer_1656252802525389, {}, function() {\nviewer_1656252802525389.zoomTo();\n\tviewer_1656252802525389.setStyle({\"cartoon\": {\"color\": \"spectrum\"}});\nviewer_1656252802525389.render();\n})\n});\n</script>"
     },
     "metadata": {},
     "output_type": "display_data"
    },
    {
     "data": {
      "text/plain": "<py3Dmol.view at 0x7feed8774c10>"
     },
     "execution_count": 7,
     "metadata": {},
     "output_type": "execute_result"
    }
   ],
   "source": [
    "view = py3Dmol.view(query='pdb:1a3n')\n",
    "view.setStyle({'cartoon':{'color':'spectrum'}})\n",
    "view"
   ],
   "metadata": {
    "collapsed": false,
    "pycharm": {
     "name": "#%%\n"
    }
   }
  }
 ],
 "metadata": {
  "kernelspec": {
   "display_name": "Python 3",
   "language": "python",
   "name": "python3"
  },
  "language_info": {
   "codemirror_mode": {
    "name": "ipython",
    "version": 2
   },
   "file_extension": ".py",
   "mimetype": "text/x-python",
   "name": "python",
   "nbconvert_exporter": "python",
   "pygments_lexer": "ipython2",
   "version": "2.7.6"
  }
 },
 "nbformat": 4,
 "nbformat_minor": 0
}