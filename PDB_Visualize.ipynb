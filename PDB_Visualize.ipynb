{
 "cells": [
  {
   "cell_type": "code",
   "execution_count": 2,
   "metadata": {
    "collapsed": true,
    "pycharm": {
     "name": "#%%\n"
    }
   },
   "outputs": [
    {
     "data": {
      "application/3dmoljs_load.v0": "<div id=\"3dmolviewer_16560851943351214\"  style=\"position: relative; width: 640px; height: 480px\">\n        <p id=\"3dmolwarning_16560851943351214\" style=\"background-color:#ffcccc;color:black\">You appear to be running in JupyterLab (or JavaScript failed to load for some other reason).  You need to install the 3dmol extension: <br>\n        <tt>jupyter labextension install jupyterlab_3dmol</tt></p>\n        </div>\n<script>\n\nvar loadScriptAsync = function(uri){\n  return new Promise((resolve, reject) => {\n    var tag = document.createElement('script');\n    tag.src = uri;\n    tag.async = true;\n    tag.onload = () => {\n      resolve();\n    };\n  var firstScriptTag = document.getElementsByTagName('script')[0];\n  firstScriptTag.parentNode.insertBefore(tag, firstScriptTag);\n});\n};\n\nif(typeof $3Dmolpromise === 'undefined') {\n$3Dmolpromise = null;\n  $3Dmolpromise = loadScriptAsync('https://3dmol.org/build/3Dmol.js');\n}\n\nvar viewer_16560851943351214 = null;\nvar warn = document.getElementById(\"3dmolwarning_16560851943351214\");\nif(warn) {\n    warn.parentNode.removeChild(warn);\n}\n$3Dmolpromise.then(function() {\nviewer_16560851943351214 = $3Dmol.createViewer($(\"#3dmolviewer_16560851943351214\"),{backgroundColor:\"white\"});\n$3Dmol.download(\"pdb:1dn3\", viewer_16560851943351214, {}, function() {\nviewer_16560851943351214.zoomTo();\n\tviewer_16560851943351214.setStyle({\"cartoon\": {\"color\": \"spectrum\"}});\nviewer_16560851943351214.render();\n})\n});\n</script>",
      "text/html": "<div id=\"3dmolviewer_16560851943351214\"  style=\"position: relative; width: 640px; height: 480px\">\n        <p id=\"3dmolwarning_16560851943351214\" style=\"background-color:#ffcccc;color:black\">You appear to be running in JupyterLab (or JavaScript failed to load for some other reason).  You need to install the 3dmol extension: <br>\n        <tt>jupyter labextension install jupyterlab_3dmol</tt></p>\n        </div>\n<script>\n\nvar loadScriptAsync = function(uri){\n  return new Promise((resolve, reject) => {\n    var tag = document.createElement('script');\n    tag.src = uri;\n    tag.async = true;\n    tag.onload = () => {\n      resolve();\n    };\n  var firstScriptTag = document.getElementsByTagName('script')[0];\n  firstScriptTag.parentNode.insertBefore(tag, firstScriptTag);\n});\n};\n\nif(typeof $3Dmolpromise === 'undefined') {\n$3Dmolpromise = null;\n  $3Dmolpromise = loadScriptAsync('https://3dmol.org/build/3Dmol.js');\n}\n\nvar viewer_16560851943351214 = null;\nvar warn = document.getElementById(\"3dmolwarning_16560851943351214\");\nif(warn) {\n    warn.parentNode.removeChild(warn);\n}\n$3Dmolpromise.then(function() {\nviewer_16560851943351214 = $3Dmol.createViewer($(\"#3dmolviewer_16560851943351214\"),{backgroundColor:\"white\"});\n$3Dmol.download(\"pdb:1dn3\", viewer_16560851943351214, {}, function() {\nviewer_16560851943351214.zoomTo();\n\tviewer_16560851943351214.setStyle({\"cartoon\": {\"color\": \"spectrum\"}});\nviewer_16560851943351214.render();\n})\n});\n</script>"
     },
     "metadata": {},
     "output_type": "display_data"
    },
    {
     "data": {
      "text/plain": "<py3Dmol.view at 0x7eff28627070>"
     },
     "execution_count": 2,
     "metadata": {},
     "output_type": "execute_result"
    }
   ],
   "source": [
    "import py3Dmol\n",
    "view = py3Dmol.view(query='pdb:1dn3')\n",
    "view.setStyle({'cartoon':{'color':'spectrum'}})\n",
    "view"
   ]
  },
  {
   "cell_type": "code",
   "execution_count": null,
   "outputs": [],
   "source": [],
   "metadata": {
    "collapsed": false,
    "pycharm": {
     "name": "#%%\n"
    }
   }
  }
 ],
 "metadata": {
  "kernelspec": {
   "display_name": "Python 3",
   "language": "python",
   "name": "python3"
  },
  "language_info": {
   "codemirror_mode": {
    "name": "ipython",
    "version": 2
   },
   "file_extension": ".py",
   "mimetype": "text/x-python",
   "name": "python",
   "nbconvert_exporter": "python",
   "pygments_lexer": "ipython2",
   "version": "2.7.6"
  }
 },
 "nbformat": 4,
 "nbformat_minor": 0
}